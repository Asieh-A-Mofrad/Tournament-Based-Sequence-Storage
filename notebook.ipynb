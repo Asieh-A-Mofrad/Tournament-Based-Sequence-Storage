{
 "cells": [
  {
   "cell_type": "markdown",
   "metadata": {},
   "source": [
    "<a name=\"1\"></a>\n",
    "# Sequence Storage in Tournament-Based Structures\n",
    "This code simulates the proposed sequence storage models and retrieval algorithms that introduced in the paper below that is submitted to the [Neural Computation](https://www.mitpressjournals.org/loi/neco):\n",
    "\n",
    "**Mofrad, A. A., Mofrad, S. A. Yazidi, A., & Parker, M. G.  (2021). On Neural Associative Memory Structures: Storage and Retrieval of Sequences in a Chain of  Tournaments .**\n",
    "\n",
    "The structures are based on the original work by [Jiang et. al (2016)](https://ieeexplore.ieee.org/stamp/stamp.jsp?arnumber=7114322) that deals with the problem of storing then retrieving sequences in sparse binary neural networks."
   ]
  },
  {
   "cell_type": "markdown",
   "metadata": {},
   "source": [
    "<a name=\"1\"></a>\n",
    "## Part 1:  Import libraries and classes and initializations\n",
    "\n",
    "- Let's import libraries and the classes and do initializations"
   ]
  },
  {
   "cell_type": "code",
   "execution_count": 1,
   "metadata": {},
   "outputs": [],
   "source": [
    "import numpy as np\n",
    "import pickle\n",
    "import time\n",
    "\n",
    "import Tournament_basis as Tour"
   ]
  },
  {
   "cell_type": "markdown",
   "metadata": {},
   "source": [
    "### Configuration of Initial values\n",
    "- `c`: is the number of clusters in the model\n",
    "- `k`: is the required bits to represent a sub-sequence (component). The number of (nodes) neurons in a cluster equals l=2<sup>k</sup>.\n",
    "- `L`: the length of sequence (number of components)\n",
    "- `r`: forward output edges from each active neuron.\n",
    "- `r_fdbk`: the size of backward edges from each active neuron. Applicable in `Tournament_Feedback_Winner` and `Tournament_Backward_Winner`. \n",
    "- `r_explore`: The number of clusters which is used for exploration.  Applicable in `Tournament_Explore_Winner`. `r_explore` must be less than `r-1`.\n",
    "- `Num_Seq`: is a list of integers as the size of learning set in simulations.\n",
    "- `Iter`: The number of repetition of retrieval (the error is an average over errors in retrieving `Iter` randomly selected sequences from the learning set)"
   ]
  },
  {
   "cell_type": "code",
   "execution_count": 2,
   "metadata": {},
   "outputs": [],
   "source": [
    "def Simulation_parameters(structure_ID):\n",
    "    \"\"\"\n",
    "    Here the information for the simulation will be provided. \n",
    "    \"\"\"\n",
    "    memory_type = {1 : 'Tournament_Winner', \n",
    "                   2 : 'Tournament_Cache_Winner',\n",
    "                   3 : 'Tournament_Explore_Winner',\n",
    "                   4 : 'Tournament_Feedback_Winner',\n",
    "                   5 : 'Tournament_Backward_Winner'\n",
    "        }\n",
    "    Initial_values = { \n",
    "            1: {\n",
    "                ### Change the Parameters with your values ###\n",
    "                'memory_type' : memory_type[structure_ID], \n",
    "                'c' : 20,\n",
    "                'k' : 8,\n",
    "                'L' : 100,\n",
    "                'r' : 12, # total. The size of tournament is r + 1\n",
    "                'r_fdbk' : 6, # c >= 2*r - r_fdbk +1\n",
    "                'r_explore' : 7, # r_explore < r-1\n",
    "                'Num_Seq': np.linspace(10, 150, 10, dtype = int),\n",
    "                'Iter' : 1\n",
    "                    },\n",
    "            ### You can add new items with an integer ('result_no') as the key ###  \n",
    "            }\n",
    "    return Initial_values\n"
   ]
  },
  {
   "cell_type": "markdown",
   "metadata": {},
   "source": [
    "<a name=\"1\"></a>\n",
    "## Part 2:  Choose the structure and run the main code\n",
    "\n",
    "- `result_no`  is used to assign a set of parameters initial values in `initialization.py`  and is used for saving the output\n",
    "\n",
    "- `structure_ID` is a number between 1-5 that determines the memory and retrieval setting  \n",
    "\n",
    "- The results will be saved in a pickle file in the \"results\" folder.\n",
    "\n",
    "- Results of a previously simulated data can be accessed by its filename.\n",
    "\n",
    "- `Learning_set_flag` must be set `True` in the case that there is no Learning set for the chosen initial values, or one want to generate a new learning set. Otherwise, it is `False`.\n",
    "To see the results for a previous simulation, change `file_name= None` to a file name in the results folder, say `file_name = 'results/Tournament_Winner_2_100.p'` "
   ]
  },
  {
   "cell_type": "code",
   "execution_count": 3,
   "metadata": {},
   "outputs": [
    {
     "name": "stdout",
     "output_type": "stream",
     "text": [
      "Learning set generated for; Size = 10\n",
      "Learning set generated for; Size = 25\n",
      "Learning set generated for; Size = 41\n",
      "Learning set generated for; Size = 56\n",
      "Learning set generated for; Size = 72\n",
      "Learning set generated for; Size = 87\n",
      "Learning set generated for; Size = 103\n",
      "Learning set generated for; Size = 118\n",
      "Learning set generated for; Size = 134\n",
      "Learning set generated for; Size = 150\n",
      "------------\n",
      " Retrieval When Learning set Size equals 10 \n",
      "\n",
      "------------\n",
      " Retrieval When Learning set Size equals 25 \n",
      "\n",
      "------------\n",
      " Retrieval When Learning set Size equals 41 \n",
      "\n",
      "------------\n",
      " Retrieval When Learning set Size equals 56 \n",
      "\n",
      "------------\n",
      " Retrieval When Learning set Size equals 72 \n",
      "\n",
      "------------\n",
      " Retrieval When Learning set Size equals 87 \n",
      "\n",
      "------------\n",
      " Retrieval When Learning set Size equals 103 \n",
      "\n",
      "------------\n",
      " Retrieval When Learning set Size equals 118 \n",
      "\n",
      "------------\n",
      " Retrieval When Learning set Size equals 134 \n",
      "\n",
      "------------\n",
      " Retrieval When Learning set Size equals 150 \n",
      "\n",
      "\n",
      "---------------\n",
      " execution time 6.766006946563721\n",
      "results are saved in results/Tournament_Backward_Winner_1_1.p\n"
     ]
    },
    {
     "data": {
      "image/png": "[encoded data removed]",
      "text/plain": [
       "<Figure size 432x288 with 1 Axes>"
      ]
     },
     "metadata": {},
     "output_type": "display_data"
    },
    {
     "name": "stdout",
     "output_type": "stream",
     "text": [
      "\n",
      " **SER results** \n",
      "\n",
      "{10: 0.0, 25: 0.0, 41: 0.0, 56: 0.0, 72: 0.0, 87: 0.0, 103: 0.0, 118: 0.0, 134: 0.0, 150: 0.0}\n",
      "\n",
      " **CER results** \n",
      "\n",
      "{10: 0.0, 25: 0.0, 41: 0.0, 56: 0.0, 72: 0.0, 87: 0.0, 103: 0.0, 118: 0.0, 134: 0.0, 150: 0.0}\n",
      "\n",
      "------ **HERE is a record on the decision type when the candidate is not unique**-------\n",
      "\n",
      "random {10: 0.0, 25: 0.0, 41: 0.0, 56: 0.0, 72: 0.0, 87: 0.0, 103: 0.0, 118: 0.0, 134: 0.0, 150: 0.0}\n",
      "total {10: 88.0, 25: 88.0, 41: 88.0, 56: 88.0, 72: 88.0, 87: 88.0, 103: 88.0, 118: 88.0, 134: 88.0, 150: 88.0}\n",
      "candidate_set_error {10: 0.0, 25: 0.0, 41: 0.0, 56: 0.0, 72: 0.0, 87: 0.0, 103: 0.0, 118: 0.0, 134: 0.0, 150: 0.0}\n",
      "random_forward {10: 0.0, 25: 0.0, 41: 0.0, 56: 0.0, 72: 0.0, 87: 0.0, 103: 0.0, 118: 0.0, 134: 0.0, 150: 0.0}\n",
      "forward_succeed {10: 0.0, 25: 0.0, 41: 0.0, 56: 0.0, 72: 0.0, 87: 0.0, 103: 0.0, 118: 0.0, 134: 0.0, 150: 0.0}\n",
      "forward_failed {10: 0.0, 25: 0.0, 41: 0.0, 56: 0.0, 72: 0.0, 87: 0.0, 103: 0.0, 118: 0.0, 134: 0.0, 150: 0.0}\n",
      "forward_neutral {10: 0.0, 25: 0.0, 41: 0.0, 56: 0.0, 72: 0.0, 87: 0.0, 103: 0.0, 118: 0.0, 134: 0.0, 150: 0.0}\n",
      "forward_reduced {10: 0.0, 25: 0.0, 41: 0.0, 56: 0.0, 72: 0.0, 87: 0.0, 103: 0.0, 118: 0.0, 134: 0.0, 150: 0.0}\n",
      "forward_unique_failed {10: 0.0, 25: 0.0, 41: 0.0, 56: 0.0, 72: 0.0, 87: 0.0, 103: 0.0, 118: 0.0, 134: 0.0, 150: 0.0}\n"
     ]
    }
   ],
   "source": [
    "result_no = 1 # currently it is the only valid 'key'. \n",
    "structure_ID = 5  # Change the ID to choose a different structure. Options are 1, 2, 3, 4 and 5\n",
    "file_name = None  # Give the file_name to just plot a previousely saved simulation\n",
    "Learning_set_flag = True # change it to False if the learning set is generated in a previous run\n",
    "\n",
    "#file_name = 'results/Tournament_Winner_2_100.p'\n",
    "\n",
    "def Initialization(result_no, structure_ID):\n",
    "    Initial_values = Simulation_parameters(structure_ID)\n",
    "    return Initial_values[result_no]\n",
    "\n",
    "if file_name == None:\n",
    "    parameter = Initialization(result_no, structure_ID)\n",
    "    general_memory = Tour.Tournumant(parameter)\n",
    "    Memory = general_memory.tournament\n",
    "    if Learning_set_flag: \n",
    "        Learning_set = Memory.Learning_Set_Generator()\n",
    "        pickle.dump(Learning_set, open( f'results/Learning_set_basis_{result_no}.p', \"wb\" ))\n",
    "        Testing_index = Memory.Testing_set_Generator()\n",
    "        pickle.dump(Testing_index, open( f'results/Testing_set_basis_{result_no}.p', \"wb\" ))\n",
    "\n",
    "    Start = time.time()\n",
    "    Memory.Test_Retrieval(result_no)\n",
    "    Duration = time.time()-Start\n",
    "    print('\\n---------------\\n execution time', Duration)\n",
    "\n",
    "    file_name = f'results/{parameter[\"memory_type\"]}_{result_no}_{parameter[\"Iter\"]}.p'\n",
    "    print('results are saved in', file_name)\n",
    "\n",
    "Tour.Plot_Results(file_name).Plot_Error()"
   ]
  },
  {
   "cell_type": "markdown",
   "metadata": {},
   "source": [
    "## License"
   ]
  },
  {
   "cell_type": "markdown",
   "metadata": {},
   "source": [
    "MIT license (MIT-LICENSE or http://opensource.org/licenses/MIT)"
   ]
  }
 ],
 "metadata": {
  "kernelspec": {
   "display_name": "Python 3",
   "language": "python",
   "name": "python3"
  },
  "language_info": {
   "codemirror_mode": {
    "name": "ipython",
    "version": 3
   },
   "file_extension": ".py",
   "mimetype": "text/x-python",
   "name": "python",
   "nbconvert_exporter": "python",
   "pygments_lexer": "ipython3",
   "version": "3.6.5"
  }
 },
 "nbformat": 4,
 "nbformat_minor": 2
}

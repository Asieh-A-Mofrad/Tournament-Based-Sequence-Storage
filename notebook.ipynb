{
 "cells": [
  {
   "cell_type": "markdown",
   "metadata": {},
   "source": [
    "<a name=\"1\"></a>\n",
    "# Sequence Storage in Tournament-Based Structures\n",
    "This code simulates the proposed sequence storage models and retrieval algorithms that introduced in the paper below that is submitted to the [Neural Computation](https://www.mitpressjournals.org/loi/neco):\n",
    "\n",
    "**Mofrad, A. A., Mofrad, S. A. Yazidi, A., & Parker, M. G.  (2021). On Neural Associative Memory Structures: Storage and Retrieval of Sequences in a Chain of  Tournaments .**\n",
    "\n",
    "The structures are based on the original work by [Jiang et. al (2016)](https://ieeexplore.ieee.org/stamp/stamp.jsp?arnumber=7114322) that deals with the problem of storing then retrieving sequences in sparse binary neural networks."
   ]
  },
  {
   "cell_type": "markdown",
   "metadata": {},
   "source": [
    "<a name=\"1\"></a>\n",
    "## Part 1:  Import libraries and classes and initializations\n",
    "\n",
    "- Let's import libraries and the classes and do initializations"
   ]
  },
  {
   "cell_type": "code",
   "execution_count": 1,
   "metadata": {},
   "outputs": [],
   "source": [
    "import numpy as np\n",
    "import pickle\n",
    "import time\n",
    "\n",
    "import Tournament_basis as Tour\n",
    "\n",
    "!git clone https://github.com/Asieh-A-Mofrad/Tournament-Based-Sequence-Storage.git\n",
    "\n",
    "import sys\n",
    "Path = '/content/Tournament-Based-Sequence-Storage/'\n",
    "sys.path.insert(0, Path)"
   ]
  },
  {
   "cell_type": "markdown",
   "metadata": {},
   "source": [
    "### Configuration of Initial values\n",
    "- `c`: is the number of clusters in the model\n",
    "- `k`: is the required bits to represent a sub-sequence (component). The number of (nodes) neurons in a cluster equals l=2<sup>k</sup>.\n",
    "- `L`: the length of sequence (number of components)\n",
    "- `r`: forward output edges from each active neuron.\n",
    "- `r_fdbk`: the size of backward edges from each active neuron. Applicable in `Tournament_Feedback_Winner` and `Tournament_Backward_Winner`. \n",
    "- `r_explore`: The number of clusters which is used for exploration.  Applicable in `Tournament_Explore_Winner`. `r_explore` must be less than `r-1`.\n",
    "- `Num_Seq`: is a list of integers as the size of learning set in simulations.\n",
    "- `Iter`: The number of repetition of retrieval (the error is an average over errors in retrieving `Iter` randomly selected sequences from the learning set)"
   ]
  },
  {
   "cell_type": "code",
   "execution_count": 2,
   "metadata": {},
   "outputs": [],
   "source": [
    "def Simulation_parameters(structure_ID):\n",
    "    \"\"\"\n",
    "    Here the information for the simulation will be provided. \n",
    "    \"\"\"\n",
    "    memory_type = {1 : 'Tournament_Winner', \n",
    "                   2 : 'Tournament_Cache_Winner',\n",
    "                   3 : 'Tournament_Explore_Winner',\n",
    "                   4 : 'Tournament_Feedback_Winner',\n",
    "                   5 : 'Tournament_Backward_Winner'\n",
    "        }\n",
    "    Initial_values = { \n",
    "            1: {\n",
    "                ### Change the Parameters with your values ###\n",
    "                'memory_type' : memory_type[structure_ID], \n",
    "                'c' : 20,\n",
    "                'k' : 8,\n",
    "                'L' : 100,\n",
    "                'r' : 12, # total. The size of tournament is r + 1\n",
    "                'r_fdbk' : 6, # c >= 2*r - r_fdbk +1\n",
    "                'r_explore' : 7, # r_explore < r-1\n",
    "                'Num_Seq': np.linspace(10, 15000, 20, dtype = int),\n",
    "                'Iter' : 50\n",
    "                    },\n",
    "            ### You can add new items with an integer ('result_no') as the key ###  \n",
    "            }\n",
    "    return Initial_values\n"
   ]
  },
  {
   "cell_type": "markdown",
   "metadata": {},
   "source": [
    "<a name=\"1\"></a>\n",
    "## Part 2:  Choose the structure\n",
    "\n",
    "- `result_no`  is used to assign a set of parameters initial values in `initialization.py`  and is used for saving the output\n",
    "\n",
    "- `structure_ID` is a number between 1-5 that determines the memory and retrieval setting  \n",
    "\n",
    "- The results will be saved in a pickle file in the \"results\" folder.\n",
    "\n",
    "- Results of a previously simulated data can be accessed by its filename.\n",
    "\n",
    "- `Learning_set_flag` must be set `True` in the case that there is no Learning set for the chosen initial values, or one want to generate a new learning set. Otherwise, it is `False`.\n",
    "To see the results for a previous simulation, change `file_name= None` to a file name in the results folder, say `file_name = 'results/Tournament_Winner_2_100.p'` "
   ]
  },
  {
   "cell_type": "code",
   "execution_count": 2,
   "metadata": {},
   "outputs": [],
   "source": [
    "# You can change the valuses in this cell\n",
    "result_no = 1 # currently it is the only valid 'key'. \n",
    "structure_ID = 5  # Change the ID to choose a different structure. Options are 1, 2, 3, 4 and 5\n",
    "file_name = None  # Give the file_name to just plot a previousely saved simulation\n",
    "Learning_set_flag = True # change it to False if the learning set is generated in a previous run\n",
    "\n",
    "#file_name = Path + 'results/Tournament_Winner_2_100.p'"
   ]
  },
  {
   "cell_type": "markdown",
   "metadata": {},
   "source": [
    "<a name=\"1\"></a>\n",
    "## Part 3: Run the main code\n",
    "Now run the below cell to see the results."
   ]
  },
  {
   "cell_type": "code",
   "execution_count": 3,
   "metadata": {},
   "outputs": [
    {
     "name": "stdout",
     "output_type": "stream",
     "text": [
      "Learning set generated for; Size = 10\n",
      "Learning set generated for; Size = 798\n",
      "Learning set generated for; Size = 1587\n",
      "Learning set generated for; Size = 2376\n",
      "Learning set generated for; Size = 3165\n",
      "Learning set generated for; Size = 3954\n",
      "Learning set generated for; Size = 4743\n",
      "Learning set generated for; Size = 5532\n",
      "Learning set generated for; Size = 6321\n",
      "Learning set generated for; Size = 7110\n",
      "Learning set generated for; Size = 7899\n",
      "Learning set generated for; Size = 8688\n",
      "Learning set generated for; Size = 9477\n",
      "Learning set generated for; Size = 10266\n",
      "Learning set generated for; Size = 11055\n",
      "Learning set generated for; Size = 11844\n",
      "Learning set generated for; Size = 12633\n",
      "Learning set generated for; Size = 13422\n",
      "Learning set generated for; Size = 14211\n",
      "Learning set generated for; Size = 15000\n",
      "------------\n",
      " Retrieval in process for Learning set Size = 10 \n",
      "\n",
      "------------\n",
      " Retrieval in process for Learning set Size = 798 \n",
      "\n",
      "------------\n",
      " Retrieval in process for Learning set Size = 1587 \n",
      "\n",
      "------------\n",
      " Retrieval in process for Learning set Size = 2376 \n",
      "\n",
      "------------\n",
      " Retrieval in process for Learning set Size = 3165 \n",
      "\n",
      "------------\n",
      " Retrieval in process for Learning set Size = 3954 \n",
      "\n",
      "------------\n",
      " Retrieval in process for Learning set Size = 4743 \n",
      "\n",
      "------------\n",
      " Retrieval in process for Learning set Size = 5532 \n",
      "\n",
      "------------\n",
      " Retrieval in process for Learning set Size = 6321 \n",
      "\n",
      "------------\n",
      " Retrieval in process for Learning set Size = 7110 \n",
      "\n",
      "------------\n",
      " Retrieval in process for Learning set Size = 7899 \n",
      "\n",
      "------------\n",
      " Retrieval in process for Learning set Size = 8688 \n",
      "\n",
      "------------\n",
      " Retrieval in process for Learning set Size = 9477 \n",
      "\n",
      "------------\n",
      " Retrieval in process for Learning set Size = 10266 \n",
      "\n",
      "------------\n",
      " Retrieval in process for Learning set Size = 11055 \n",
      "\n",
      "------------\n",
      " Retrieval in process for Learning set Size = 11844 \n",
      "\n",
      "------------\n",
      " Retrieval in process for Learning set Size = 12633 \n",
      "\n",
      "------------\n",
      " Retrieval in process for Learning set Size = 13422 \n",
      "\n",
      "------------\n",
      " Retrieval in process for Learning set Size = 14211 \n",
      "\n",
      "------------\n",
      " Retrieval in process for Learning set Size = 15000 \n",
      "\n",
      "\n",
      "---------------\n",
      " execution time 20067.077370405197\n",
      "results are saved in results/Tournament_Backward_Winner_1_50.p\n"
     ]
    },
    {
     "data": {
      "image/png": "[encoded data removed]",
      "text/plain": [
       "<Figure size 432x288 with 1 Axes>"
      ]
     },
     "metadata": {},
     "output_type": "display_data"
    },
    {
     "name": "stdout",
     "output_type": "stream",
     "text": [
      "\n",
      " **SER results** \n",
      "\n",
      "{10: 0.0, 798: 0.0, 1587: 0.0, 2376: 0.0, 3165: 0.0, 3954: 0.0, 4743: 0.0, 5532: 0.02, 6321: 0.14, 7110: 0.46, 7899: 0.52, 8688: 0.76, 9477: 0.98, 10266: 1.0, 11055: 1.0, 11844: 1.0, 12633: 1.0, 13422: 1.0, 14211: 1.0, 15000: 1.0}\n",
      "\n",
      " **CER results** \n",
      "\n",
      "{10: 0.0, 798: 0.0, 1587: 0.0, 2376: 0.0, 3165: 0.0, 3954: 0.0, 4743: 0.0, 5532: 0.0009090909090909091, 6321: 0.05454545454545454, 7110: 0.17363636363636364, 7899: 0.22181818181818183, 8688: 0.3422727272727273, 9477: 0.6268181818181818, 10266: 0.7804545454545454, 11055: 0.8915909090909091, 11844: 0.9220454545454545, 12633: 0.9438636363636363, 13422: 0.9665909090909091, 14211: 0.9747727272727272, 15000: 0.98}\n",
      "\n",
      "------ **HERE is a record on the decision type when the candidate is not unique**-------\n",
      "\n",
      "random {10: 0.0, 798: 0.0, 1587: 0.0, 2376: 0.0, 3165: 0.0, 3954: 0.02, 4743: 0.0, 5532: 0.06, 6321: 1.36, 7110: 4.74, 7899: 5.96, 8688: 11.28, 9477: 21.2, 10266: 30.18, 11055: 38.22, 11844: 42.46, 12633: 49.42, 13422: 53.36, 14211: 61.04, 15000: 67.4}\n",
      "total {10: 88.0, 798: 88.0, 1587: 88.0, 2376: 88.0, 3165: 88.0, 3954: 88.0, 4743: 88.0, 5532: 88.0, 6321: 88.0, 7110: 88.0, 7899: 88.0, 8688: 88.0, 9477: 88.0, 10266: 88.0, 11055: 88.0, 11844: 88.0, 12633: 88.0, 13422: 88.0, 14211: 88.0, 15000: 88.0}\n",
      "candidate_set_error {10: 0.0, 798: 0.0, 1587: 0.0, 2376: 0.0, 3165: 0.0, 3954: 0.0, 4743: 0.0, 5532: 0.18, 6321: 2.4, 7110: 5.0, 7899: 3.52, 8688: 2.52, 9477: 2.14, 10266: 0.88, 11055: 0.28, 11844: 0.1, 12633: 0.0, 13422: 0.0, 14211: 0.0, 15000: 0.0}\n",
      "random_forward {10: 0.0, 798: 0.0, 1587: 0.06, 2376: 0.28, 3165: 1.86, 3954: 5.84, 4743: 13.08, 5532: 24.02, 6321: 40.86, 7110: 55.84, 7899: 66.98, 8688: 76.12, 9477: 80.08, 10266: 83.7, 11055: 86.46, 11844: 87.46, 12633: 87.9, 13422: 88.0, 14211: 88.0, 15000: 88.0}\n",
      "forward_succeed {10: 0.0, 798: 0.0, 1587: 0.06, 2376: 0.28, 3165: 1.86, 3954: 5.82, 4743: 13.08, 5532: 23.82, 6321: 37.32, 7110: 42.98, 7899: 50.2, 8688: 48.44, 9477: 31.12, 10266: 25.62, 11055: 22.94, 11844: 27.94, 12633: 28.22, 13422: 28.46, 14211: 23.74, 15000: 19.8}\n",
      "forward_failed {10: 0.0, 798: 0.0, 1587: 0.0, 2376: 0.0, 3165: 0.0, 3954: 0.0, 4743: 0.0, 5532: 0.0, 6321: 0.0, 7110: 0.0, 7899: 0.0, 8688: 0.0, 9477: 0.0, 10266: 0.0, 11055: 0.0, 11844: 0.0, 12633: 0.0, 13422: 0.0, 14211: 0.0, 15000: 0.0}\n",
      "forward_neutral {10: 0.0, 798: 0.0, 1587: 0.0, 2376: 0.0, 3165: 0.0, 3954: 0.02, 4743: 0.0, 5532: 0.06, 6321: 0.28, 7110: 1.2, 7899: 1.42, 8688: 2.28, 9477: 2.92, 10266: 2.24, 11055: 1.46, 11844: 0.78, 12633: 0.24, 13422: 0.04, 14211: 0.06, 15000: 0.0}\n",
      "forward_reduced {10: 0.0, 798: 0.0, 1587: 0.0, 2376: 0.0, 3165: 0.0, 3954: 0.0, 4743: 0.0, 5532: 0.14, 6321: 3.26, 7110: 11.66, 7899: 15.36, 8688: 25.4, 9477: 46.04, 10266: 55.84, 11055: 62.06, 11844: 58.74, 12633: 59.44, 13422: 59.5, 14211: 64.2, 15000: 68.2}\n",
      "forward_unique_failed {10: 0.0, 798: 0.0, 1587: 0.0, 2376: 0.0, 3165: 0.0, 3954: 0.0, 4743: 0.0, 5532: 0.14, 6321: 3.28, 7110: 12.1, 7899: 15.66, 8688: 25.7, 9477: 46.54, 10266: 54.16, 11055: 57.18, 11844: 48.22, 12633: 39.76, 13422: 29.18, 14211: 20.84, 15000: 11.94}\n"
     ]
    }
   ],
   "source": [
    "# Don't Change this cell. \n",
    "%matplotlib inline \n",
    "\n",
    "def Initialization(result_no, structure_ID):\n",
    "    Initial_values = Simulation_parameters(structure_ID)\n",
    "    return Initial_values[result_no]\n",
    "\n",
    "if file_name == None:\n",
    "    parameter = Initialization(result_no, structure_ID)\n",
    "    general_memory = Tour.Tournumant(parameter)\n",
    "    Memory = general_memory.tournament\n",
    "    if Learning_set_flag: \n",
    "        Learning_set = Memory.Learning_Set_Generator()\n",
    "        pickle.dump(Learning_set, open( f'results/Learning_set_basis_{result_no}.p', \"wb\" ))\n",
    "        Testing_index = Memory.Testing_set_Generator()\n",
    "        pickle.dump(Testing_index, open( f'results/Testing_set_basis_{result_no}.p', \"wb\" ))\n",
    "\n",
    "    Start = time.time()\n",
    "    Memory.Test_Retrieval(result_no)\n",
    "    Duration = time.time()-Start\n",
    "    print('\\n---------------\\n execution time', Duration)\n",
    "\n",
    "    file_name = f'results/{parameter[\"memory_type\"]}_{result_no}_{parameter[\"Iter\"]}.p'\n",
    "    print('results are saved in', file_name)\n",
    "\n",
    "Tour.Plot_Results(file_name).Plot_Error()"
   ]
  },
  {
   "cell_type": "markdown",
   "metadata": {},
   "source": [
    "## License"
   ]
  },
  {
   "cell_type": "markdown",
   "metadata": {},
   "source": [
    "MIT license (MIT-LICENSE or http://opensource.org/licenses/MIT)"
   ]
  }
 ],
 "metadata": {
  "kernelspec": {
   "display_name": "Python 3",
   "language": "python",
   "name": "python3"
  },
  "language_info": {
   "codemirror_mode": {
    "name": "ipython",
    "version": 3
   },
   "file_extension": ".py",
   "mimetype": "text/x-python",
   "name": "python",
   "nbconvert_exporter": "python",
   "pygments_lexer": "ipython3",
   "version": "3.7.3"
  }
 },
 "nbformat": 4,
 "nbformat_minor": 2
}

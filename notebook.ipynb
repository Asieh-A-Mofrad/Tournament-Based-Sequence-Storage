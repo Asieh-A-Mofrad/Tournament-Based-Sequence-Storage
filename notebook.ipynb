{
  "nbformat": 4,
  "nbformat_minor": 0,
  "metadata": {
    "kernelspec": {
      "display_name": "Python 3",
      "language": "python",
      "name": "python3"
    },
    "language_info": {
      "codemirror_mode": {
        "name": "ipython",
        "version": 3
      },
      "file_extension": ".py",
      "mimetype": "text/x-python",
      "name": "python",
      "nbconvert_exporter": "python",
      "pygments_lexer": "ipython3",
      "version": "3.7.3"
    },
    "colab": {
      "name": "notebook.ipynb",
      "provenance": []
    }
  },
  "cells": [
    {
      "cell_type": "markdown",
      "metadata": {
        "id": "0FzKFFJOUDqT"
      },
      "source": [
        "<a name=\"1\"></a>\n",
        "# Sequence Storage in Tournament-Based Structures\n",
        "This code simulates the proposed sequence storage models and retrieval algorithms that introduced in the paper below that is submitted to the [Neural Computation](https://www.mitpressjournals.org/loi/neco):\n",
        "\n",
        "**Mofrad, A. A., Mofrad, S. A. Yazidi, A., & Parker, M. G.  (2021). On Neural Associative Memory Structures: Storage and Retrieval of Sequences in a Chain of  Tournaments .**\n",
        "\n",
        "The structures are based on the original work by [Jiang et. al (2016)](https://ieeexplore.ieee.org/stamp/stamp.jsp?arnumber=7114322) that deals with the problem of storing then retrieving sequences in sparse binary neural networks."
      ]
    },
    {
      "cell_type": "markdown",
      "metadata": {
        "id": "KTpCPtbIUDqb"
      },
      "source": [
        "<a name=\"1\"></a>\n",
        "## Part 1:  Import libraries and classes and initializations\n",
        "\n",
        "- Let's import libraries and the classes and do initializations"
      ]
    },
    {
      "cell_type": "code",
      "metadata": {
        "id": "2T_C_wpVUDqc",
        "outputId": "578078b6-fe00-49bb-92c9-a00b4e1e0eeb",
        "colab": {
          "base_uri": "https://localhost:8080/"
        }
      },
      "source": [
        "import numpy as np\n",
        "import pickle\n",
        "import time\n",
        "import os \n",
        "import sys\n",
        "\n",
        "# dataset git repo\n",
        "if not os.path.exists(\"Tournament-Based-Sequence-Storage\"):\n",
        "  !git clone https://github.com/Asieh-A-Mofrad/Tournament-Based-Sequence-Storage.git\n",
        "\n",
        "Path = '/content/Tournament-Based-Sequence-Storage/'\n",
        "sys.path.insert(0, Path)\n",
        "\n",
        "import Tournament_basis as Tour"
      ],
      "execution_count": 1,
      "outputs": [
        {
          "output_type": "stream",
          "text": [
            "Cloning into 'Tournament-Based-Sequence-Storage'...\n",
            "remote: Enumerating objects: 39, done.\u001b[K\n",
            "remote: Counting objects: 100% (39/39), done.\u001b[K\n",
            "remote: Compressing objects: 100% (39/39), done.\u001b[K\n",
            "remote: Total 39 (delta 12), reused 0 (delta 0), pack-reused 0\u001b[K\n",
            "Unpacking objects: 100% (39/39), done.\n"
          ],
          "name": "stdout"
        }
      ]
    },
    {
      "cell_type": "markdown",
      "metadata": {
        "id": "KmlvemO-UDqc"
      },
      "source": [
        "### Configuration of Initial values\n",
        "- `c`: is the number of clusters in the model\n",
        "- `k`: is the required bits to represent a sub-sequence (component). The number of (nodes) neurons in a cluster equals l=2<sup>k</sup>.\n",
        "- `L`: the length of sequence (number of components)\n",
        "- `r`: forward output edges from each active neuron.\n",
        "- `r_fdbk`: the size of backward edges from each active neuron. Applicable in `Tournament_Feedback_Winner` and `Tournament_Backward_Winner`. \n",
        "- `r_explore`: The number of clusters which is used for exploration.  Applicable in `Tournament_Explore_Winner`. `r_explore` must be less than `r-1`.\n",
        "- `Num_Seq`: is a list of integers as the size of learning set in simulations.\n",
        "- `Iter`: The number of repetition of retrieval (the error is an average over errors in retrieving `Iter` randomly selected sequences from the learning set)"
      ]
    },
    {
      "cell_type": "code",
      "metadata": {
        "id": "t1Q_-SmqUDqd"
      },
      "source": [
        "def Simulation_parameters(structure_ID):\n",
        "    \"\"\"\n",
        "    Here the information for the simulation will be provided. \n",
        "    \"\"\"\n",
        "    memory_type = {1 : 'Tournament_Winner', \n",
        "                   2 : 'Tournament_Cache_Winner',\n",
        "                   3 : 'Tournament_Explore_Winner',\n",
        "                   4 : 'Tournament_Feedback_Winner',\n",
        "                   5 : 'Tournament_Backward_Winner'\n",
        "        }\n",
        "    Initial_values = { \n",
        "            1: {\n",
        "                ### Change the Parameters with your values ###\n",
        "                'memory_type' : memory_type[structure_ID], \n",
        "                'c' : 20,\n",
        "                'k' : 8,\n",
        "                'L' : 100,\n",
        "                'r' : 12, # total. The size of tournament is r + 1\n",
        "                'r_fdbk' : 6, # c >= 2*r - r_fdbk +1\n",
        "                'r_explore' : 7, # r_explore < r-1\n",
        "                'Num_Seq': np.linspace(10, 15000, 20, dtype = int),\n",
        "                'Iter' : 50\n",
        "                    },\n",
        "            ### You can add new items with an integer ('result_no') as the key ###  \n",
        "            }\n",
        "    return Initial_values\n"
      ],
      "execution_count": 2,
      "outputs": []
    },
    {
      "cell_type": "markdown",
      "metadata": {
        "id": "nxm41bRyUDqd"
      },
      "source": [
        "<a name=\"1\"></a>\n",
        "## Part 2:  Choose the structure\n",
        "\n",
        "- `result_no`  is used to assign a set of parameters initial values in `initialization.py`  and is used for saving the output\n",
        "\n",
        "- `structure_ID` is a number between 1-5 that determines the memory and retrieval setting  \n",
        "\n",
        "- The results will be saved in a pickle file in the \"results\" folder.\n",
        "\n",
        "- Results of a previously simulated data can be accessed by its filename.\n",
        "\n",
        "- `Learning_set_flag` must be set `True` in the case that there is no Learning set for the chosen initial values, or one want to generate a new learning set. Otherwise, it is `False`.\n",
        "To see the results for a previous simulation, change `file_name= None` to a file name in the results folder, say `file_name = 'results/Tournament_Winner_2_100.p'` "
      ]
    },
    {
      "cell_type": "code",
      "metadata": {
        "id": "GSAJ73NIUDqe"
      },
      "source": [
        "# You can change the valuses in this cell\n",
        "result_no = 1 # currently it is the only valid 'key'. \n",
        "structure_ID = 5  # Change the ID to choose a different structure. Options are 1, 2, 3, 4 and 5\n",
        "file_name = None  # Give the file_name to just plot a previousely saved simulation\n",
        "Learning_set_flag = True # change it to False if the learning set is generated in a previous run\n",
        "\n",
        "#file_name = Path + 'results/Tournament_Winner_2_100.p'"
      ],
      "execution_count": 5,
      "outputs": []
    },
    {
      "cell_type": "markdown",
      "metadata": {
        "id": "M0w4jqx4UDqe"
      },
      "source": [
        "<a name=\"1\"></a>\n",
        "## Part 3: Run the main code\n",
        "Now run the below cell to see the results."
      ]
    },
    {
      "cell_type": "code",
      "metadata": {
        "id": "PUhsnpawUDqe",
        "outputId": "589d810a-9ced-425b-dd03-2532dbc7b088",
        "colab": {
          "base_uri": "https://localhost:8080/",
          "height": 528
        }
      },
      "source": [
        "# Don't Change this cell. \n",
        "%matplotlib inline \n",
        "\n",
        "def Initialization(result_no, structure_ID):\n",
        "    Initial_values = Simulation_parameters(structure_ID)\n",
        "    return Initial_values[result_no]\n",
        "\n",
        "if file_name == None:\n",
        "    parameter = Initialization(result_no, structure_ID)\n",
        "    general_memory = Tour.Tournumant(parameter)\n",
        "    Memory = general_memory.tournament\n",
        "    if Learning_set_flag: \n",
        "        Learning_set = Memory.Learning_Set_Generator()\n",
        "        pickle.dump(Learning_set, open( f'results/Learning_set_basis_{result_no}.p', \"wb\" ))\n",
        "        Testing_index = Memory.Testing_set_Generator()\n",
        "        pickle.dump(Testing_index, open( f'results/Testing_set_basis_{result_no}.p', \"wb\" ))\n",
        "\n",
        "    Start = time.time()\n",
        "    Memory.Test_Retrieval(result_no)\n",
        "    Duration = time.time()-Start\n",
        "    print('\\n---------------\\n execution time', Duration)\n",
        "\n",
        "    file_name = f'results/{parameter[\"memory_type\"]}_{result_no}_{parameter[\"Iter\"]}.p'\n",
        "    print('results are saved in', file_name)\n",
        "\n",
        "Tour.Plot_Results(file_name).Plot_Error()"
      ],
      "execution_count": 6,
      "outputs": [
        {
          "output_type": "display_data",
          "data": {
            "image/png": "[encoded data removed]",
            "text/plain": [
              "<Figure size 432x288 with 1 Axes>"
            ]
          },
          "metadata": {
            "tags": [],
            "needs_background": "light"
          }
        },
        {
          "output_type": "stream",
          "text": [
            "\n",
            " **SER results** \n",
            "\n",
            "{10: 0.0, 1007: 0.0, 2005: 0.0, 3002: 0.0, 4000: 0.0, 4500: 0.01, 4653: 0.02, 4807: 0.0, 4961: 0.05, 5115: 0.01, 5269: 0.02, 5423: 0.03, 5576: 0.01, 5730: 0.02, 5884: 0.01, 6038: 0.05, 6192: 0.08, 6346: 0.11, 6500: 0.11, 6653: 0.1, 6807: 0.14, 6961: 0.26, 7115: 0.27, 7269: 0.35, 7423: 0.3, 7576: 0.5, 7730: 0.44, 7884: 0.61, 8038: 0.58, 8192: 0.7, 8346: 0.7, 8500: 0.79, 8653: 0.84, 8807: 0.92, 8961: 0.91, 9115: 0.9, 9269: 0.95, 9423: 0.95, 9576: 0.96, 9730: 0.95, 9884: 1.0, 10038: 0.99, 10192: 1.0, 10346: 1.0, 10500: 1.0, 11000: 1.0, 12000: 1.0, 13000: 1.0, 14000: 1.0, 15000: 1.0}\n",
            "\n",
            " **CER results** \n",
            "\n",
            "{10: 0.0, 1007: 0.0, 2005: 0.0, 3002: 0.0, 4000: 0.0, 4500: 0.00011363636363636364, 4653: 0.00022727272727272727, 4807: 0.0, 4961: 0.0005681818181818182, 5115: 0.00011363636363636364, 5269: 0.00034090909090909094, 5423: 0.00034090909090909094, 5576: 0.00011363636363636364, 5730: 0.00022727272727272727, 5884: 0.00011363636363636364, 6038: 0.0007954545454545455, 6192: 0.01, 6346: 0.00375, 6500: 0.00125, 6653: 0.0017045454545454545, 6807: 0.014886363636363637, 6961: 0.005227272727272727, 7115: 0.016136363636363636, 7269: 0.04170454545454545, 7423: 0.046136363636363635, 7576: 0.08579545454545455, 7730: 0.10034090909090909, 7884: 0.1290909090909091, 8038: 0.1225, 8192: 0.20238636363636364, 8346: 0.25772727272727275, 8500: 0.27340909090909093, 8653: 0.3375, 8807: 0.425, 8961: 0.45545454545454545, 9115: 0.48579545454545453, 9269: 0.5617045454545454, 9423: 0.58, 9576: 0.6548863636363637, 9730: 0.6840909090909091, 9884: 0.7230681818181818, 10038: 0.7290909090909091, 10192: 0.7660227272727272, 10346: 0.8136363636363636, 10500: 0.8043181818181818, 11000: 0.8597727272727272, 12000: 0.9445454545454546, 13000: 0.9481818181818182, 14000: 0.9753409090909091, 15000: 0.9815909090909091}\n",
            "\n",
            "------ **HERE is a record on the decision type when the candidate is not unique**-------\n",
            "\n",
            "random {10: 0.0, 1007: 0.0, 2005: 0.0, 3002: 0.0, 4000: 0.0, 4500: 0.02, 4653: 0.04, 4807: 0.05, 4961: 0.1, 5115: 0.12, 5269: 0.17, 5423: 0.23, 5576: 0.29, 5730: 0.36, 5884: 0.41, 6038: 0.56, 6192: 1.27, 6346: 1.65, 6500: 1.92, 6653: 2.29, 6807: 3.48, 6961: 4.16, 7115: 5.47, 7269: 8.51, 7423: 11.65, 7576: 17.19, 7730: 23.31, 7884: 31.88, 8038: 39.87, 8192: 52.37, 8346: 67.7, 8500: 83.87, 8653: 104.07, 8807: 128.39, 8961: 154.24, 9115: 182.15, 9269: 213.08, 9423: 245.49, 9576: 282.01, 9730: 320.79, 9884: 361.21, 10038: 402.44, 10192: 446.58, 10346: 493.14, 10500: 539.77, 11000: 590.18, 12000: 644.58, 13000: 700.6, 14000: 763.18, 15000: 832.29}\n",
            "total {10: 88.0, 1007: 176.0, 2005: 264.0, 3002: 352.0, 4000: 440.0, 4500: 528.0, 4653: 616.0, 4807: 704.0, 4961: 792.0, 5115: 880.0, 5269: 968.0, 5423: 1056.0, 5576: 1144.0, 5730: 1232.0, 5884: 1320.0, 6038: 1408.0, 6192: 1496.0, 6346: 1584.0, 6500: 1672.0, 6653: 1760.0, 6807: 1848.0, 6961: 1936.0, 7115: 2024.0, 7269: 2112.0, 7423: 2200.0, 7576: 2288.0, 7730: 2376.0, 7884: 2464.0, 8038: 2552.0, 8192: 2640.0, 8346: 2728.0, 8500: 2816.0, 8653: 2904.0, 8807: 2992.0, 8961: 3080.0, 9115: 3168.0, 9269: 3256.0, 9423: 3344.0, 9576: 3432.0, 9730: 3520.0, 9884: 3608.0, 10038: 3696.0, 10192: 3784.0, 10346: 3872.0, 10500: 3960.0, 11000: 4048.0, 12000: 4136.0, 13000: 4224.0, 14000: 4312.0, 15000: 4400.0}\n",
            "candidate_set_error {10: 0.0, 1007: 0.0, 2005: 0.0, 3002: 0.0, 4000: 0.0, 4500: 0.09, 4653: 0.18, 4807: 0.18, 4961: 0.46, 5115: 0.52, 5269: 0.7, 5423: 0.98, 5576: 1.05, 5730: 1.17, 5884: 1.27, 6038: 1.58, 6192: 3.07, 6346: 4.24, 6500: 4.95, 6653: 5.68, 6807: 8.07, 6961: 10.29, 7115: 13.8, 7269: 19.44, 7423: 25.29, 7576: 35.5, 7730: 46.19, 7884: 61.26, 8038: 75.48, 8192: 96.83, 8346: 122.62, 8500: 149.36, 8653: 182.26, 8807: 222.14, 8961: 262.81, 9115: 305.58, 9269: 353.15, 9423: 402.5, 9576: 456.0, 9730: 510.91, 9884: 567.9, 10038: 623.74, 10192: 681.92, 10346: 741.67, 10500: 799.68, 11000: 857.25, 12000: 905.65, 13000: 939.18, 14000: 962.18, 15000: 974.57}\n"
          ],
          "name": "stdout"
        }
      ]
    },
    {
      "cell_type": "markdown",
      "metadata": {
        "id": "KPUVeFsIUDqf"
      },
      "source": [
        "## License"
      ]
    },
    {
      "cell_type": "markdown",
      "metadata": {
        "id": "BWDiTIPGUDqg"
      },
      "source": [
        "MIT license (MIT-LICENSE or http://opensource.org/licenses/MIT)"
      ]
    }
  ]
}